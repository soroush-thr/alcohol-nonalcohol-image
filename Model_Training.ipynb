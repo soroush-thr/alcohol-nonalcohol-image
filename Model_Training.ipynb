{
  "nbformat": 4,
  "nbformat_minor": 0,
  "metadata": {
    "colab": {
      "provenance": [],
      "toc_visible": true
    },
    "kernelspec": {
      "name": "python3",
      "display_name": "Python 3"
    }
  },
  "cells": [
    {
      "cell_type": "markdown",
      "metadata": {
        "id": "Wcg3c6AWE5sP"
      },
      "source": [
        "# Imports"
      ]
    },
    {
      "cell_type": "code",
      "metadata": {
        "id": "-1UZ9Dk-zi2-"
      },
      "source": [
        "import numpy as np\n",
        "import pandas as pd\n",
        "import tensorflow as tf\n",
        "from imutils import paths\n",
        "from google.colab import drive\n",
        "\n",
        "from tensorflow import keras\n",
        "from tensorflow.keras.models import Sequential\n",
        "from tensorflow.keras.layers import Activation, Dense, Flatten, BatchNormalization, Conv2D, MaxPool2D\n",
        "from tensorflow.keras.optimizers import Adam\n",
        "from tensorflow.keras.metrics import categorical_crossentropy\n",
        "from tensorflow.keras.preprocessing import image\n",
        "from tensorflow.keras.models import Model\n",
        "from tensorflow.keras.applications import imagenet_utils\n",
        "from tensorflow.keras.preprocessing.image import ImageDataGenerator\n",
        "from sklearn.metrics import confusion_matrix\n",
        "from sklearn.preprocessing import LabelBinarizer\n",
        "\n",
        "import itertools\n",
        "import os\n",
        "import shutil\n",
        "import random\n",
        "import glob\n",
        "import matplotlib.pyplot as plt\n",
        "import warnings\n",
        "import cv2\n",
        "\n",
        "warnings.simplefilter(action='ignore', category=FutureWarning)\n",
        "%matplotlib inline"
      ],
      "execution_count": null,
      "outputs": []
    },
    {
      "cell_type": "code",
      "metadata": {
        "colab": {
          "base_uri": "https://localhost:8080/"
        },
        "id": "o45Mr2Lx1KN1",
        "outputId": "946a2498-7251-40c2-b80c-c5af7a35f27b"
      },
      "source": [
        "# Mounting Google Drive to access the dataset\n",
        "drive.mount('/gdrive')"
      ],
      "execution_count": null,
      "outputs": [
        {
          "output_type": "stream",
          "text": [
            "Mounted at /gdrive\n"
          ],
          "name": "stdout"
        }
      ]
    },
    {
      "cell_type": "code",
      "metadata": {
        "colab": {
          "base_uri": "https://localhost:8080/"
        },
        "id": "GmcQcThgSSGg",
        "outputId": "19afc331-f781-43f6-9beb-b071ade4f664"
      },
      "source": [
        "# Change the current working directory to the folder containing the dataset\n",
        "\n",
        "%cd /gdrive/MyDrive/Datasets/Alcohol Dataset"
      ],
      "execution_count": null,
      "outputs": [
        {
          "output_type": "stream",
          "text": [
            "/gdrive/MyDrive/Datasets/Alcohol Dataset\n"
          ],
          "name": "stdout"
        }
      ]
    },
    {
      "cell_type": "code",
      "metadata": {
        "colab": {
          "base_uri": "https://localhost:8080/"
        },
        "id": "2BcpWUUSrCaj",
        "outputId": "ba591c3e-d839-49d7-b0f4-a2e09483ba5d"
      },
      "source": [
        "# Counting the number of images in each category of the dataset\n",
        "\n",
        "al_train = !find '/gdrive/MyDrive/Datasets/Alcohol Dataset/train/alcoholic' -type f | wc -l\n",
        "al_train = int(int(al_train[0]))\n",
        "\n",
        "non_train = !find '/gdrive/MyDrive/Datasets/Alcohol Dataset/train/nonalcoholic' -type f | wc -l\n",
        "non_train = int(int(non_train[0]))\n",
        "\n",
        "al_valid = !find '/gdrive/MyDrive/Datasets/Alcohol Dataset/valid/alcoholic' -type f | wc -l\n",
        "al_valid = int(int(al_valid[0]))\n",
        "\n",
        "non_vaid = !find '/gdrive/MyDrive/Datasets/Alcohol Dataset/valid/nonalcoholic' -type f | wc -l\n",
        "non_vaid = int(int(non_vaid[0]))\n",
        "\n",
        "al_test = !find '/gdrive/MyDrive/Datasets/Alcohol Dataset/test/alcoholic' -type f | wc -l\n",
        "al_test = int(int(al_test[0]))\n",
        "\n",
        "non_test = !find '/gdrive/MyDrive/Datasets/Alcohol Dataset/test/nonalcoholic' -type f | wc -l\n",
        "non_test = int(int(non_test[0]))\n",
        "\n",
        "# Print the number of images in each category\n",
        "\n",
        "print(al_train)\n",
        "print(non_train)\n",
        "\n",
        "print(al_valid)\n",
        "print(non_vaid)\n",
        "\n",
        "print(al_test)\n",
        "print(non_test)"
      ],
      "execution_count": null,
      "outputs": [
        {
          "output_type": "stream",
          "text": [
            "2500\n",
            "2500\n",
            "1000\n",
            "1000\n",
            "450\n",
            "450\n"
          ],
          "name": "stdout"
        }
      ]
    },
    {
      "cell_type": "markdown",
      "metadata": {
        "id": "Mmp86ZY1hB3t"
      },
      "source": [
        "# Mobile Net"
      ]
    },
    {
      "cell_type": "code",
      "metadata": {
        "id": "lq1jQaiE3EeS",
        "colab": {
          "base_uri": "https://localhost:8080/"
        },
        "outputId": "00e939d4-f984-48de-875d-9fed7a385343"
      },
      "source": [
        "# Load the MobileNet model pre-trained on the ImageNet dataset\n",
        "\n",
        "mobile = tf.keras.applications.mobilenet.MobileNet()"
      ],
      "execution_count": null,
      "outputs": [
        {
          "output_type": "stream",
          "text": [
            "Downloading data from https://storage.googleapis.com/tensorflow/keras-applications/mobilenet/mobilenet_1_0_224_tf.h5\n",
            "17227776/17225924 [==============================] - 0s 0us/step\n"
          ],
          "name": "stdout"
        }
      ]
    },
    {
      "cell_type": "code",
      "metadata": {
        "id": "s8OZYEkk4L0n"
      },
      "source": [
        "# Define a function to prepare an image for input to the model\n",
        "def prepare_image(file):\n",
        "    img_path = '/gdrive/MyDrive/Kaggle/data/sample/'\n",
        "    img = image.load_img(img_path + file, target_size=(224, 224))\n",
        "    img_array = image.img_to_array(img)\n",
        "    img_array_expanded_dims = np.expand_dims(img_array, axis=0)\n",
        "    return tf.keras.applications.mobilenet.preprocess_input(img_array_expanded_dims)"
      ],
      "execution_count": null,
      "outputs": []
    },
    {
      "cell_type": "markdown",
      "metadata": {
        "id": "dI4vfR4-9aVg"
      },
      "source": [
        "## Data preperation"
      ]
    },
    {
      "cell_type": "code",
      "metadata": {
        "id": "kg6Lnuoyn70V"
      },
      "source": [
        "# Define the paths to the train, validation, and test datasets\n",
        "\n",
        "train_path = '/gdrive/MyDrive/Datasets/Alcohol Dataset/train'\n",
        "valid_path = '/gdrive/MyDrive/Datasets/Alcohol Dataset/valid'\n",
        "test_path = '/gdrive/MyDrive/Datasets/Alcohol Dataset/test'"
      ],
      "execution_count": null,
      "outputs": []
    },
    {
      "cell_type": "code",
      "metadata": {
        "colab": {
          "base_uri": "https://localhost:8080/"
        },
        "id": "TP8UcUv7ny2z",
        "outputId": "732a4396-ce6e-437e-e7fe-7a0321538b00"
      },
      "source": [
        "# Use ImageDataGenerator to create batches of images for training, validation, and testing\n",
        "\n",
        "train_batches = ImageDataGenerator(preprocessing_function=tf.keras.applications.mobilenet.preprocess_input).flow_from_directory(\n",
        "    directory=train_path, target_size=(224,224))\n",
        "valid_batches = ImageDataGenerator(preprocessing_function=tf.keras.applications.mobilenet.preprocess_input).flow_from_directory(\n",
        "    directory=valid_path, target_size=(224,224))\n",
        "test_batches = ImageDataGenerator(preprocessing_function=tf.keras.applications.mobilenet.preprocess_input).flow_from_directory(\n",
        "    directory=test_path, target_size=(224,224), shuffle=False)"
      ],
      "execution_count": null,
      "outputs": [
        {
          "output_type": "stream",
          "text": [
            "Found 5000 images belonging to 2 classes.\n",
            "Found 2000 images belonging to 2 classes.\n",
            "Found 900 images belonging to 2 classes.\n"
          ],
          "name": "stdout"
        }
      ]
    },
    {
      "cell_type": "markdown",
      "metadata": {
        "id": "YMBU2NXFdVtZ"
      },
      "source": [
        "## Model tuning"
      ]
    },
    {
      "cell_type": "markdown",
      "source": [
        "The code first loads the MobileNet model from Keras applications module and prints the model summary to get an overview of the architecture."
      ],
      "metadata": {
        "id": "19u6wc81jBzx"
      }
    },
    {
      "cell_type": "code",
      "metadata": {
        "colab": {
          "base_uri": "https://localhost:8080/"
        },
        "id": "MgB-nc8sVvcs",
        "outputId": "ade0d5ab-4c03-4fc9-c190-82a7b9c95f7b"
      },
      "source": [
        "mobile = tf.keras.applications.mobilenet.MobileNet()\n",
        "mobile.summary()"
      ],
      "execution_count": null,
      "outputs": [
        {
          "output_type": "stream",
          "text": [
            "Model: \"mobilenet_1.00_224\"\n",
            "_________________________________________________________________\n",
            "Layer (type)                 Output Shape              Param #   \n",
            "=================================================================\n",
            "input_2 (InputLayer)         [(None, 224, 224, 3)]     0         \n",
            "_________________________________________________________________\n",
            "conv1 (Conv2D)               (None, 112, 112, 32)      864       \n",
            "_________________________________________________________________\n",
            "conv1_bn (BatchNormalization (None, 112, 112, 32)      128       \n",
            "_________________________________________________________________\n",
            "conv1_relu (ReLU)            (None, 112, 112, 32)      0         \n",
            "_________________________________________________________________\n",
            "conv_dw_1 (DepthwiseConv2D)  (None, 112, 112, 32)      288       \n",
            "_________________________________________________________________\n",
            "conv_dw_1_bn (BatchNormaliza (None, 112, 112, 32)      128       \n",
            "_________________________________________________________________\n",
            "conv_dw_1_relu (ReLU)        (None, 112, 112, 32)      0         \n",
            "_________________________________________________________________\n",
            "conv_pw_1 (Conv2D)           (None, 112, 112, 64)      2048      \n",
            "_________________________________________________________________\n",
            "conv_pw_1_bn (BatchNormaliza (None, 112, 112, 64)      256       \n",
            "_________________________________________________________________\n",
            "conv_pw_1_relu (ReLU)        (None, 112, 112, 64)      0         \n",
            "_________________________________________________________________\n",
            "conv_pad_2 (ZeroPadding2D)   (None, 113, 113, 64)      0         \n",
            "_________________________________________________________________\n",
            "conv_dw_2 (DepthwiseConv2D)  (None, 56, 56, 64)        576       \n",
            "_________________________________________________________________\n",
            "conv_dw_2_bn (BatchNormaliza (None, 56, 56, 64)        256       \n",
            "_________________________________________________________________\n",
            "conv_dw_2_relu (ReLU)        (None, 56, 56, 64)        0         \n",
            "_________________________________________________________________\n",
            "conv_pw_2 (Conv2D)           (None, 56, 56, 128)       8192      \n",
            "_________________________________________________________________\n",
            "conv_pw_2_bn (BatchNormaliza (None, 56, 56, 128)       512       \n",
            "_________________________________________________________________\n",
            "conv_pw_2_relu (ReLU)        (None, 56, 56, 128)       0         \n",
            "_________________________________________________________________\n",
            "conv_dw_3 (DepthwiseConv2D)  (None, 56, 56, 128)       1152      \n",
            "_________________________________________________________________\n",
            "conv_dw_3_bn (BatchNormaliza (None, 56, 56, 128)       512       \n",
            "_________________________________________________________________\n",
            "conv_dw_3_relu (ReLU)        (None, 56, 56, 128)       0         \n",
            "_________________________________________________________________\n",
            "conv_pw_3 (Conv2D)           (None, 56, 56, 128)       16384     \n",
            "_________________________________________________________________\n",
            "conv_pw_3_bn (BatchNormaliza (None, 56, 56, 128)       512       \n",
            "_________________________________________________________________\n",
            "conv_pw_3_relu (ReLU)        (None, 56, 56, 128)       0         \n",
            "_________________________________________________________________\n",
            "conv_pad_4 (ZeroPadding2D)   (None, 57, 57, 128)       0         \n",
            "_________________________________________________________________\n",
            "conv_dw_4 (DepthwiseConv2D)  (None, 28, 28, 128)       1152      \n",
            "_________________________________________________________________\n",
            "conv_dw_4_bn (BatchNormaliza (None, 28, 28, 128)       512       \n",
            "_________________________________________________________________\n",
            "conv_dw_4_relu (ReLU)        (None, 28, 28, 128)       0         \n",
            "_________________________________________________________________\n",
            "conv_pw_4 (Conv2D)           (None, 28, 28, 256)       32768     \n",
            "_________________________________________________________________\n",
            "conv_pw_4_bn (BatchNormaliza (None, 28, 28, 256)       1024      \n",
            "_________________________________________________________________\n",
            "conv_pw_4_relu (ReLU)        (None, 28, 28, 256)       0         \n",
            "_________________________________________________________________\n",
            "conv_dw_5 (DepthwiseConv2D)  (None, 28, 28, 256)       2304      \n",
            "_________________________________________________________________\n",
            "conv_dw_5_bn (BatchNormaliza (None, 28, 28, 256)       1024      \n",
            "_________________________________________________________________\n",
            "conv_dw_5_relu (ReLU)        (None, 28, 28, 256)       0         \n",
            "_________________________________________________________________\n",
            "conv_pw_5 (Conv2D)           (None, 28, 28, 256)       65536     \n",
            "_________________________________________________________________\n",
            "conv_pw_5_bn (BatchNormaliza (None, 28, 28, 256)       1024      \n",
            "_________________________________________________________________\n",
            "conv_pw_5_relu (ReLU)        (None, 28, 28, 256)       0         \n",
            "_________________________________________________________________\n",
            "conv_pad_6 (ZeroPadding2D)   (None, 29, 29, 256)       0         \n",
            "_________________________________________________________________\n",
            "conv_dw_6 (DepthwiseConv2D)  (None, 14, 14, 256)       2304      \n",
            "_________________________________________________________________\n",
            "conv_dw_6_bn (BatchNormaliza (None, 14, 14, 256)       1024      \n",
            "_________________________________________________________________\n",
            "conv_dw_6_relu (ReLU)        (None, 14, 14, 256)       0         \n",
            "_________________________________________________________________\n",
            "conv_pw_6 (Conv2D)           (None, 14, 14, 512)       131072    \n",
            "_________________________________________________________________\n",
            "conv_pw_6_bn (BatchNormaliza (None, 14, 14, 512)       2048      \n",
            "_________________________________________________________________\n",
            "conv_pw_6_relu (ReLU)        (None, 14, 14, 512)       0         \n",
            "_________________________________________________________________\n",
            "conv_dw_7 (DepthwiseConv2D)  (None, 14, 14, 512)       4608      \n",
            "_________________________________________________________________\n",
            "conv_dw_7_bn (BatchNormaliza (None, 14, 14, 512)       2048      \n",
            "_________________________________________________________________\n",
            "conv_dw_7_relu (ReLU)        (None, 14, 14, 512)       0         \n",
            "_________________________________________________________________\n",
            "conv_pw_7 (Conv2D)           (None, 14, 14, 512)       262144    \n",
            "_________________________________________________________________\n",
            "conv_pw_7_bn (BatchNormaliza (None, 14, 14, 512)       2048      \n",
            "_________________________________________________________________\n",
            "conv_pw_7_relu (ReLU)        (None, 14, 14, 512)       0         \n",
            "_________________________________________________________________\n",
            "conv_dw_8 (DepthwiseConv2D)  (None, 14, 14, 512)       4608      \n",
            "_________________________________________________________________\n",
            "conv_dw_8_bn (BatchNormaliza (None, 14, 14, 512)       2048      \n",
            "_________________________________________________________________\n",
            "conv_dw_8_relu (ReLU)        (None, 14, 14, 512)       0         \n",
            "_________________________________________________________________\n",
            "conv_pw_8 (Conv2D)           (None, 14, 14, 512)       262144    \n",
            "_________________________________________________________________\n",
            "conv_pw_8_bn (BatchNormaliza (None, 14, 14, 512)       2048      \n",
            "_________________________________________________________________\n",
            "conv_pw_8_relu (ReLU)        (None, 14, 14, 512)       0         \n",
            "_________________________________________________________________\n",
            "conv_dw_9 (DepthwiseConv2D)  (None, 14, 14, 512)       4608      \n",
            "_________________________________________________________________\n",
            "conv_dw_9_bn (BatchNormaliza (None, 14, 14, 512)       2048      \n",
            "_________________________________________________________________\n",
            "conv_dw_9_relu (ReLU)        (None, 14, 14, 512)       0         \n",
            "_________________________________________________________________\n",
            "conv_pw_9 (Conv2D)           (None, 14, 14, 512)       262144    \n",
            "_________________________________________________________________\n",
            "conv_pw_9_bn (BatchNormaliza (None, 14, 14, 512)       2048      \n",
            "_________________________________________________________________\n",
            "conv_pw_9_relu (ReLU)        (None, 14, 14, 512)       0         \n",
            "_________________________________________________________________\n",
            "conv_dw_10 (DepthwiseConv2D) (None, 14, 14, 512)       4608      \n",
            "_________________________________________________________________\n",
            "conv_dw_10_bn (BatchNormaliz (None, 14, 14, 512)       2048      \n",
            "_________________________________________________________________\n",
            "conv_dw_10_relu (ReLU)       (None, 14, 14, 512)       0         \n",
            "_________________________________________________________________\n",
            "conv_pw_10 (Conv2D)          (None, 14, 14, 512)       262144    \n",
            "_________________________________________________________________\n",
            "conv_pw_10_bn (BatchNormaliz (None, 14, 14, 512)       2048      \n",
            "_________________________________________________________________\n",
            "conv_pw_10_relu (ReLU)       (None, 14, 14, 512)       0         \n",
            "_________________________________________________________________\n",
            "conv_dw_11 (DepthwiseConv2D) (None, 14, 14, 512)       4608      \n",
            "_________________________________________________________________\n",
            "conv_dw_11_bn (BatchNormaliz (None, 14, 14, 512)       2048      \n",
            "_________________________________________________________________\n",
            "conv_dw_11_relu (ReLU)       (None, 14, 14, 512)       0         \n",
            "_________________________________________________________________\n",
            "conv_pw_11 (Conv2D)          (None, 14, 14, 512)       262144    \n",
            "_________________________________________________________________\n",
            "conv_pw_11_bn (BatchNormaliz (None, 14, 14, 512)       2048      \n",
            "_________________________________________________________________\n",
            "conv_pw_11_relu (ReLU)       (None, 14, 14, 512)       0         \n",
            "_________________________________________________________________\n",
            "conv_pad_12 (ZeroPadding2D)  (None, 15, 15, 512)       0         \n",
            "_________________________________________________________________\n",
            "conv_dw_12 (DepthwiseConv2D) (None, 7, 7, 512)         4608      \n",
            "_________________________________________________________________\n",
            "conv_dw_12_bn (BatchNormaliz (None, 7, 7, 512)         2048      \n",
            "_________________________________________________________________\n",
            "conv_dw_12_relu (ReLU)       (None, 7, 7, 512)         0         \n",
            "_________________________________________________________________\n",
            "conv_pw_12 (Conv2D)          (None, 7, 7, 1024)        524288    \n",
            "_________________________________________________________________\n",
            "conv_pw_12_bn (BatchNormaliz (None, 7, 7, 1024)        4096      \n",
            "_________________________________________________________________\n",
            "conv_pw_12_relu (ReLU)       (None, 7, 7, 1024)        0         \n",
            "_________________________________________________________________\n",
            "conv_dw_13 (DepthwiseConv2D) (None, 7, 7, 1024)        9216      \n",
            "_________________________________________________________________\n",
            "conv_dw_13_bn (BatchNormaliz (None, 7, 7, 1024)        4096      \n",
            "_________________________________________________________________\n",
            "conv_dw_13_relu (ReLU)       (None, 7, 7, 1024)        0         \n",
            "_________________________________________________________________\n",
            "conv_pw_13 (Conv2D)          (None, 7, 7, 1024)        1048576   \n",
            "_________________________________________________________________\n",
            "conv_pw_13_bn (BatchNormaliz (None, 7, 7, 1024)        4096      \n",
            "_________________________________________________________________\n",
            "conv_pw_13_relu (ReLU)       (None, 7, 7, 1024)        0         \n",
            "_________________________________________________________________\n",
            "global_average_pooling2d_1 ( (None, 1024)              0         \n",
            "_________________________________________________________________\n",
            "reshape_1 (Reshape)          (None, 1, 1, 1024)        0         \n",
            "_________________________________________________________________\n",
            "dropout (Dropout)            (None, 1, 1, 1024)        0         \n",
            "_________________________________________________________________\n",
            "conv_preds (Conv2D)          (None, 1, 1, 1000)        1025000   \n",
            "_________________________________________________________________\n",
            "reshape_2 (Reshape)          (None, 1000)              0         \n",
            "_________________________________________________________________\n",
            "predictions (Activation)     (None, 1000)              0         \n",
            "=================================================================\n",
            "Total params: 4,253,864\n",
            "Trainable params: 4,231,976\n",
            "Non-trainable params: 21,888\n",
            "_________________________________________________________________\n"
          ],
          "name": "stdout"
        }
      ]
    },
    {
      "cell_type": "markdown",
      "source": [
        "The code then extracts the output tensor from the sixth-to-last layer in the MobileNet model, which is the global average pooling layer. The extracted output is passed as input to a Dense layer that produces two output units with softmax activation to produce the final classification predictions. A new Keras model is created with the same input tensor as the MobileNet model and the output tensor of the Dense layer.\n",
        "\n"
      ],
      "metadata": {
        "id": "GeybWZ38jFdt"
      }
    },
    {
      "cell_type": "code",
      "metadata": {
        "id": "_h7GC2cPWui0"
      },
      "source": [
        "x = mobile.layers[-6].output\n",
        "output = Dense(units=2, activation='softmax')(x)"
      ],
      "execution_count": null,
      "outputs": []
    },
    {
      "cell_type": "code",
      "metadata": {
        "id": "BzhOl8J_XKDF"
      },
      "source": [
        "model = Model(inputs=mobile.input, outputs=output)"
      ],
      "execution_count": null,
      "outputs": []
    },
    {
      "cell_type": "markdown",
      "source": [
        "The code sets all layers in the model except the output layer as untrainable, meaning their weights will not be updated during training. The model summary is then printed to confirm the changes."
      ],
      "metadata": {
        "id": "-DYrIEhcjJnt"
      }
    },
    {
      "cell_type": "code",
      "metadata": {
        "id": "ow7A5jExXlqL"
      },
      "source": [
        "for layer in model.layers[:-1]:\n",
        "    layer.trainable = False"
      ],
      "execution_count": null,
      "outputs": []
    },
    {
      "cell_type": "code",
      "metadata": {
        "colab": {
          "base_uri": "https://localhost:8080/"
        },
        "id": "Ttyb3vxnXqEG",
        "outputId": "a274224f-72f1-4da3-c7e5-f24bbc144d76"
      },
      "source": [
        "model.summary()"
      ],
      "execution_count": null,
      "outputs": [
        {
          "output_type": "stream",
          "text": [
            "Model: \"model\"\n",
            "_________________________________________________________________\n",
            "Layer (type)                 Output Shape              Param #   \n",
            "=================================================================\n",
            "input_2 (InputLayer)         [(None, 224, 224, 3)]     0         \n",
            "_________________________________________________________________\n",
            "conv1 (Conv2D)               (None, 112, 112, 32)      864       \n",
            "_________________________________________________________________\n",
            "conv1_bn (BatchNormalization (None, 112, 112, 32)      128       \n",
            "_________________________________________________________________\n",
            "conv1_relu (ReLU)            (None, 112, 112, 32)      0         \n",
            "_________________________________________________________________\n",
            "conv_dw_1 (DepthwiseConv2D)  (None, 112, 112, 32)      288       \n",
            "_________________________________________________________________\n",
            "conv_dw_1_bn (BatchNormaliza (None, 112, 112, 32)      128       \n",
            "_________________________________________________________________\n",
            "conv_dw_1_relu (ReLU)        (None, 112, 112, 32)      0         \n",
            "_________________________________________________________________\n",
            "conv_pw_1 (Conv2D)           (None, 112, 112, 64)      2048      \n",
            "_________________________________________________________________\n",
            "conv_pw_1_bn (BatchNormaliza (None, 112, 112, 64)      256       \n",
            "_________________________________________________________________\n",
            "conv_pw_1_relu (ReLU)        (None, 112, 112, 64)      0         \n",
            "_________________________________________________________________\n",
            "conv_pad_2 (ZeroPadding2D)   (None, 113, 113, 64)      0         \n",
            "_________________________________________________________________\n",
            "conv_dw_2 (DepthwiseConv2D)  (None, 56, 56, 64)        576       \n",
            "_________________________________________________________________\n",
            "conv_dw_2_bn (BatchNormaliza (None, 56, 56, 64)        256       \n",
            "_________________________________________________________________\n",
            "conv_dw_2_relu (ReLU)        (None, 56, 56, 64)        0         \n",
            "_________________________________________________________________\n",
            "conv_pw_2 (Conv2D)           (None, 56, 56, 128)       8192      \n",
            "_________________________________________________________________\n",
            "conv_pw_2_bn (BatchNormaliza (None, 56, 56, 128)       512       \n",
            "_________________________________________________________________\n",
            "conv_pw_2_relu (ReLU)        (None, 56, 56, 128)       0         \n",
            "_________________________________________________________________\n",
            "conv_dw_3 (DepthwiseConv2D)  (None, 56, 56, 128)       1152      \n",
            "_________________________________________________________________\n",
            "conv_dw_3_bn (BatchNormaliza (None, 56, 56, 128)       512       \n",
            "_________________________________________________________________\n",
            "conv_dw_3_relu (ReLU)        (None, 56, 56, 128)       0         \n",
            "_________________________________________________________________\n",
            "conv_pw_3 (Conv2D)           (None, 56, 56, 128)       16384     \n",
            "_________________________________________________________________\n",
            "conv_pw_3_bn (BatchNormaliza (None, 56, 56, 128)       512       \n",
            "_________________________________________________________________\n",
            "conv_pw_3_relu (ReLU)        (None, 56, 56, 128)       0         \n",
            "_________________________________________________________________\n",
            "conv_pad_4 (ZeroPadding2D)   (None, 57, 57, 128)       0         \n",
            "_________________________________________________________________\n",
            "conv_dw_4 (DepthwiseConv2D)  (None, 28, 28, 128)       1152      \n",
            "_________________________________________________________________\n",
            "conv_dw_4_bn (BatchNormaliza (None, 28, 28, 128)       512       \n",
            "_________________________________________________________________\n",
            "conv_dw_4_relu (ReLU)        (None, 28, 28, 128)       0         \n",
            "_________________________________________________________________\n",
            "conv_pw_4 (Conv2D)           (None, 28, 28, 256)       32768     \n",
            "_________________________________________________________________\n",
            "conv_pw_4_bn (BatchNormaliza (None, 28, 28, 256)       1024      \n",
            "_________________________________________________________________\n",
            "conv_pw_4_relu (ReLU)        (None, 28, 28, 256)       0         \n",
            "_________________________________________________________________\n",
            "conv_dw_5 (DepthwiseConv2D)  (None, 28, 28, 256)       2304      \n",
            "_________________________________________________________________\n",
            "conv_dw_5_bn (BatchNormaliza (None, 28, 28, 256)       1024      \n",
            "_________________________________________________________________\n",
            "conv_dw_5_relu (ReLU)        (None, 28, 28, 256)       0         \n",
            "_________________________________________________________________\n",
            "conv_pw_5 (Conv2D)           (None, 28, 28, 256)       65536     \n",
            "_________________________________________________________________\n",
            "conv_pw_5_bn (BatchNormaliza (None, 28, 28, 256)       1024      \n",
            "_________________________________________________________________\n",
            "conv_pw_5_relu (ReLU)        (None, 28, 28, 256)       0         \n",
            "_________________________________________________________________\n",
            "conv_pad_6 (ZeroPadding2D)   (None, 29, 29, 256)       0         \n",
            "_________________________________________________________________\n",
            "conv_dw_6 (DepthwiseConv2D)  (None, 14, 14, 256)       2304      \n",
            "_________________________________________________________________\n",
            "conv_dw_6_bn (BatchNormaliza (None, 14, 14, 256)       1024      \n",
            "_________________________________________________________________\n",
            "conv_dw_6_relu (ReLU)        (None, 14, 14, 256)       0         \n",
            "_________________________________________________________________\n",
            "conv_pw_6 (Conv2D)           (None, 14, 14, 512)       131072    \n",
            "_________________________________________________________________\n",
            "conv_pw_6_bn (BatchNormaliza (None, 14, 14, 512)       2048      \n",
            "_________________________________________________________________\n",
            "conv_pw_6_relu (ReLU)        (None, 14, 14, 512)       0         \n",
            "_________________________________________________________________\n",
            "conv_dw_7 (DepthwiseConv2D)  (None, 14, 14, 512)       4608      \n",
            "_________________________________________________________________\n",
            "conv_dw_7_bn (BatchNormaliza (None, 14, 14, 512)       2048      \n",
            "_________________________________________________________________\n",
            "conv_dw_7_relu (ReLU)        (None, 14, 14, 512)       0         \n",
            "_________________________________________________________________\n",
            "conv_pw_7 (Conv2D)           (None, 14, 14, 512)       262144    \n",
            "_________________________________________________________________\n",
            "conv_pw_7_bn (BatchNormaliza (None, 14, 14, 512)       2048      \n",
            "_________________________________________________________________\n",
            "conv_pw_7_relu (ReLU)        (None, 14, 14, 512)       0         \n",
            "_________________________________________________________________\n",
            "conv_dw_8 (DepthwiseConv2D)  (None, 14, 14, 512)       4608      \n",
            "_________________________________________________________________\n",
            "conv_dw_8_bn (BatchNormaliza (None, 14, 14, 512)       2048      \n",
            "_________________________________________________________________\n",
            "conv_dw_8_relu (ReLU)        (None, 14, 14, 512)       0         \n",
            "_________________________________________________________________\n",
            "conv_pw_8 (Conv2D)           (None, 14, 14, 512)       262144    \n",
            "_________________________________________________________________\n",
            "conv_pw_8_bn (BatchNormaliza (None, 14, 14, 512)       2048      \n",
            "_________________________________________________________________\n",
            "conv_pw_8_relu (ReLU)        (None, 14, 14, 512)       0         \n",
            "_________________________________________________________________\n",
            "conv_dw_9 (DepthwiseConv2D)  (None, 14, 14, 512)       4608      \n",
            "_________________________________________________________________\n",
            "conv_dw_9_bn (BatchNormaliza (None, 14, 14, 512)       2048      \n",
            "_________________________________________________________________\n",
            "conv_dw_9_relu (ReLU)        (None, 14, 14, 512)       0         \n",
            "_________________________________________________________________\n",
            "conv_pw_9 (Conv2D)           (None, 14, 14, 512)       262144    \n",
            "_________________________________________________________________\n",
            "conv_pw_9_bn (BatchNormaliza (None, 14, 14, 512)       2048      \n",
            "_________________________________________________________________\n",
            "conv_pw_9_relu (ReLU)        (None, 14, 14, 512)       0         \n",
            "_________________________________________________________________\n",
            "conv_dw_10 (DepthwiseConv2D) (None, 14, 14, 512)       4608      \n",
            "_________________________________________________________________\n",
            "conv_dw_10_bn (BatchNormaliz (None, 14, 14, 512)       2048      \n",
            "_________________________________________________________________\n",
            "conv_dw_10_relu (ReLU)       (None, 14, 14, 512)       0         \n",
            "_________________________________________________________________\n",
            "conv_pw_10 (Conv2D)          (None, 14, 14, 512)       262144    \n",
            "_________________________________________________________________\n",
            "conv_pw_10_bn (BatchNormaliz (None, 14, 14, 512)       2048      \n",
            "_________________________________________________________________\n",
            "conv_pw_10_relu (ReLU)       (None, 14, 14, 512)       0         \n",
            "_________________________________________________________________\n",
            "conv_dw_11 (DepthwiseConv2D) (None, 14, 14, 512)       4608      \n",
            "_________________________________________________________________\n",
            "conv_dw_11_bn (BatchNormaliz (None, 14, 14, 512)       2048      \n",
            "_________________________________________________________________\n",
            "conv_dw_11_relu (ReLU)       (None, 14, 14, 512)       0         \n",
            "_________________________________________________________________\n",
            "conv_pw_11 (Conv2D)          (None, 14, 14, 512)       262144    \n",
            "_________________________________________________________________\n",
            "conv_pw_11_bn (BatchNormaliz (None, 14, 14, 512)       2048      \n",
            "_________________________________________________________________\n",
            "conv_pw_11_relu (ReLU)       (None, 14, 14, 512)       0         \n",
            "_________________________________________________________________\n",
            "conv_pad_12 (ZeroPadding2D)  (None, 15, 15, 512)       0         \n",
            "_________________________________________________________________\n",
            "conv_dw_12 (DepthwiseConv2D) (None, 7, 7, 512)         4608      \n",
            "_________________________________________________________________\n",
            "conv_dw_12_bn (BatchNormaliz (None, 7, 7, 512)         2048      \n",
            "_________________________________________________________________\n",
            "conv_dw_12_relu (ReLU)       (None, 7, 7, 512)         0         \n",
            "_________________________________________________________________\n",
            "conv_pw_12 (Conv2D)          (None, 7, 7, 1024)        524288    \n",
            "_________________________________________________________________\n",
            "conv_pw_12_bn (BatchNormaliz (None, 7, 7, 1024)        4096      \n",
            "_________________________________________________________________\n",
            "conv_pw_12_relu (ReLU)       (None, 7, 7, 1024)        0         \n",
            "_________________________________________________________________\n",
            "conv_dw_13 (DepthwiseConv2D) (None, 7, 7, 1024)        9216      \n",
            "_________________________________________________________________\n",
            "conv_dw_13_bn (BatchNormaliz (None, 7, 7, 1024)        4096      \n",
            "_________________________________________________________________\n",
            "conv_dw_13_relu (ReLU)       (None, 7, 7, 1024)        0         \n",
            "_________________________________________________________________\n",
            "conv_pw_13 (Conv2D)          (None, 7, 7, 1024)        1048576   \n",
            "_________________________________________________________________\n",
            "conv_pw_13_bn (BatchNormaliz (None, 7, 7, 1024)        4096      \n",
            "_________________________________________________________________\n",
            "conv_pw_13_relu (ReLU)       (None, 7, 7, 1024)        0         \n",
            "_________________________________________________________________\n",
            "global_average_pooling2d_1 ( (None, 1024)              0         \n",
            "_________________________________________________________________\n",
            "dense (Dense)                (None, 2)                 2050      \n",
            "=================================================================\n",
            "Total params: 3,230,914\n",
            "Trainable params: 2,050\n",
            "Non-trainable params: 3,228,864\n",
            "_________________________________________________________________\n"
          ],
          "name": "stdout"
        }
      ]
    },
    {
      "cell_type": "markdown",
      "source": [
        "The code defines three custom metrics: recall, precision, and F1 score. The functions implement the mathematical equations for each metric using Keras backend functions."
      ],
      "metadata": {
        "id": "Q6C5XjkRjNpG"
      }
    },
    {
      "cell_type": "code",
      "metadata": {
        "id": "-F0UFlOrjVn6"
      },
      "source": [
        "from keras import backend as K\n",
        "\n",
        "def recall_m(y_true, y_pred):\n",
        "    true_positives = K.sum(K.round(K.clip(y_true * y_pred, 0, 1)))\n",
        "    possible_positives = K.sum(K.round(K.clip(y_true, 0, 1)))\n",
        "    recall = true_positives / (possible_positives + K.epsilon())\n",
        "    return recall\n",
        "\n",
        "def precision_m(y_true, y_pred):\n",
        "    true_positives = K.sum(K.round(K.clip(y_true * y_pred, 0, 1)))\n",
        "    predicted_positives = K.sum(K.round(K.clip(y_pred, 0, 1)))\n",
        "    precision = true_positives / (predicted_positives + K.epsilon())\n",
        "    return precision\n",
        "\n",
        "def f1_m(y_true, y_pred):\n",
        "    precision = precision_m(y_true, y_pred)\n",
        "    recall = recall_m(y_true, y_pred)\n",
        "    return 2*((precision*recall)/(precision+recall+K.epsilon()))"
      ],
      "execution_count": null,
      "outputs": []
    },
    {
      "cell_type": "markdown",
      "metadata": {
        "id": "VcPJlpBEdb9Y"
      },
      "source": [
        "## Model Training"
      ]
    },
    {
      "cell_type": "markdown",
      "source": [
        "The code compiles the model by specifying the optimizer, loss function, and evaluation metrics. The Adam optimizer with a learning rate of 0.0001 is used, the categorical cross-entropy is used as the loss function, and the accuracy, F1 score, precision, and recall metrics are used for evaluation. The code then trains the model using the fit() method by passing the training and validation data generators, the number of steps per epoch, the number of validation steps, and the number of epochs."
      ],
      "metadata": {
        "id": "5nmlVnXBjRhK"
      }
    },
    {
      "cell_type": "code",
      "metadata": {
        "id": "mVgoZwPRXvWX"
      },
      "source": [
        "model.compile(optimizer=Adam(lr=0.0001), loss='categorical_crossentropy', metrics=['accuracy', f1_m, precision_m, recall_m])"
      ],
      "execution_count": null,
      "outputs": []
    },
    {
      "cell_type": "code",
      "metadata": {
        "colab": {
          "base_uri": "https://localhost:8080/"
        },
        "id": "uAcAGlhyb86G",
        "outputId": "ab9c2d42-d4e5-44e1-e061-507d98568f3d"
      },
      "source": [
        "history = model.fit(x=train_batches,\n",
        "            steps_per_epoch=len(train_batches),\n",
        "            validation_data=valid_batches,\n",
        "            validation_steps=len(valid_batches),\n",
        "            epochs=20,\n",
        "            verbose=1\n",
        ")"
      ],
      "execution_count": null,
      "outputs": [
        {
          "output_type": "stream",
          "text": [
            "Epoch 1/20\n",
            "157/157 [==============================] - 2939s 19s/step - loss: 0.7554 - accuracy: 0.5882 - f1_m: 0.5883 - precision_m: 0.5883 - recall_m: 0.5883 - val_loss: 0.5610 - val_accuracy: 0.7190 - val_f1_m: 0.7207 - val_precision_m: 0.7207 - val_recall_m: 0.7207\n",
            "Epoch 2/20\n",
            "157/157 [==============================] - 99s 633ms/step - loss: 0.5195 - accuracy: 0.7552 - f1_m: 0.7557 - precision_m: 0.7557 - recall_m: 0.7557 - val_loss: 0.4729 - val_accuracy: 0.7820 - val_f1_m: 0.7817 - val_precision_m: 0.7817 - val_recall_m: 0.7817\n",
            "Epoch 3/20\n",
            "157/157 [==============================] - 100s 635ms/step - loss: 0.4518 - accuracy: 0.8001 - f1_m: 0.8004 - precision_m: 0.8004 - recall_m: 0.8004 - val_loss: 0.4305 - val_accuracy: 0.8030 - val_f1_m: 0.8026 - val_precision_m: 0.8026 - val_recall_m: 0.8026\n",
            "Epoch 4/20\n",
            "157/157 [==============================] - 99s 634ms/step - loss: 0.4044 - accuracy: 0.8224 - f1_m: 0.8223 - precision_m: 0.8223 - recall_m: 0.8223 - val_loss: 0.4074 - val_accuracy: 0.8115 - val_f1_m: 0.8115 - val_precision_m: 0.8115 - val_recall_m: 0.8115\n",
            "Epoch 5/20\n",
            "157/157 [==============================] - 100s 635ms/step - loss: 0.3628 - accuracy: 0.8433 - f1_m: 0.8431 - precision_m: 0.8431 - recall_m: 0.8431 - val_loss: 0.3884 - val_accuracy: 0.8265 - val_f1_m: 0.8249 - val_precision_m: 0.8249 - val_recall_m: 0.8249\n",
            "Epoch 6/20\n",
            "157/157 [==============================] - 99s 635ms/step - loss: 0.3539 - accuracy: 0.8457 - f1_m: 0.8451 - precision_m: 0.8451 - recall_m: 0.8451 - val_loss: 0.3731 - val_accuracy: 0.8245 - val_f1_m: 0.8249 - val_precision_m: 0.8249 - val_recall_m: 0.8249\n",
            "Epoch 7/20\n",
            "157/157 [==============================] - 99s 631ms/step - loss: 0.3342 - accuracy: 0.8595 - f1_m: 0.8594 - precision_m: 0.8594 - recall_m: 0.8594 - val_loss: 0.3637 - val_accuracy: 0.8310 - val_f1_m: 0.8304 - val_precision_m: 0.8304 - val_recall_m: 0.8304\n",
            "Epoch 8/20\n",
            "157/157 [==============================] - 99s 631ms/step - loss: 0.3169 - accuracy: 0.8664 - f1_m: 0.8660 - precision_m: 0.8660 - recall_m: 0.8660 - val_loss: 0.3556 - val_accuracy: 0.8370 - val_f1_m: 0.8373 - val_precision_m: 0.8373 - val_recall_m: 0.8373\n",
            "Epoch 9/20\n",
            "157/157 [==============================] - 99s 630ms/step - loss: 0.3166 - accuracy: 0.8701 - f1_m: 0.8701 - precision_m: 0.8701 - recall_m: 0.8701 - val_loss: 0.3507 - val_accuracy: 0.8390 - val_f1_m: 0.8388 - val_precision_m: 0.8388 - val_recall_m: 0.8388\n",
            "Epoch 10/20\n",
            "157/157 [==============================] - 98s 626ms/step - loss: 0.3074 - accuracy: 0.8756 - f1_m: 0.8758 - precision_m: 0.8758 - recall_m: 0.8758 - val_loss: 0.3469 - val_accuracy: 0.8440 - val_f1_m: 0.8437 - val_precision_m: 0.8438 - val_recall_m: 0.8438\n",
            "Epoch 11/20\n",
            "157/157 [==============================] - 99s 629ms/step - loss: 0.3025 - accuracy: 0.8772 - f1_m: 0.8770 - precision_m: 0.8770 - recall_m: 0.8770 - val_loss: 0.3441 - val_accuracy: 0.8440 - val_f1_m: 0.8433 - val_precision_m: 0.8433 - val_recall_m: 0.8433\n",
            "Epoch 12/20\n",
            "157/157 [==============================] - 100s 637ms/step - loss: 0.3030 - accuracy: 0.8768 - f1_m: 0.8772 - precision_m: 0.8772 - recall_m: 0.8772 - val_loss: 0.3368 - val_accuracy: 0.8535 - val_f1_m: 0.8532 - val_precision_m: 0.8532 - val_recall_m: 0.8532\n",
            "Epoch 13/20\n",
            "157/157 [==============================] - 100s 636ms/step - loss: 0.2864 - accuracy: 0.8789 - f1_m: 0.8789 - precision_m: 0.8789 - recall_m: 0.8789 - val_loss: 0.3343 - val_accuracy: 0.8555 - val_f1_m: 0.8532 - val_precision_m: 0.8532 - val_recall_m: 0.8532\n",
            "Epoch 14/20\n",
            "157/157 [==============================] - 99s 634ms/step - loss: 0.2929 - accuracy: 0.8820 - f1_m: 0.8824 - precision_m: 0.8824 - recall_m: 0.8824 - val_loss: 0.3329 - val_accuracy: 0.8565 - val_f1_m: 0.8562 - val_precision_m: 0.8562 - val_recall_m: 0.8562\n",
            "Epoch 15/20\n",
            "157/157 [==============================] - 100s 638ms/step - loss: 0.2847 - accuracy: 0.8810 - f1_m: 0.8810 - precision_m: 0.8810 - recall_m: 0.8810 - val_loss: 0.3296 - val_accuracy: 0.8580 - val_f1_m: 0.8586 - val_precision_m: 0.8586 - val_recall_m: 0.8586\n",
            "Epoch 16/20\n",
            "157/157 [==============================] - 100s 637ms/step - loss: 0.2853 - accuracy: 0.8834 - f1_m: 0.8833 - precision_m: 0.8833 - recall_m: 0.8833 - val_loss: 0.3272 - val_accuracy: 0.8610 - val_f1_m: 0.8611 - val_precision_m: 0.8611 - val_recall_m: 0.8611\n",
            "Epoch 17/20\n",
            "157/157 [==============================] - 99s 632ms/step - loss: 0.2715 - accuracy: 0.8897 - f1_m: 0.8900 - precision_m: 0.8900 - recall_m: 0.8900 - val_loss: 0.3278 - val_accuracy: 0.8550 - val_f1_m: 0.8547 - val_precision_m: 0.8547 - val_recall_m: 0.8547\n",
            "Epoch 18/20\n",
            "157/157 [==============================] - 99s 631ms/step - loss: 0.2689 - accuracy: 0.8893 - f1_m: 0.8896 - precision_m: 0.8896 - recall_m: 0.8896 - val_loss: 0.3268 - val_accuracy: 0.8550 - val_f1_m: 0.8537 - val_precision_m: 0.8537 - val_recall_m: 0.8537\n",
            "Epoch 19/20\n",
            "157/157 [==============================] - 99s 631ms/step - loss: 0.2714 - accuracy: 0.8899 - f1_m: 0.8910 - precision_m: 0.8910 - recall_m: 0.8910 - val_loss: 0.3226 - val_accuracy: 0.8610 - val_f1_m: 0.8611 - val_precision_m: 0.8611 - val_recall_m: 0.8611\n",
            "Epoch 20/20\n",
            "157/157 [==============================] - 98s 628ms/step - loss: 0.2539 - accuracy: 0.8949 - f1_m: 0.8949 - precision_m: 0.8949 - recall_m: 0.8949 - val_loss: 0.3245 - val_accuracy: 0.8550 - val_f1_m: 0.8537 - val_precision_m: 0.8537 - val_recall_m: 0.8537\n"
          ],
          "name": "stdout"
        }
      ]
    },
    {
      "cell_type": "markdown",
      "source": [
        "Now we plot three graphs showing the training and validation accuracy, precision, and loss during training. The matplotlib library is used to create the plots."
      ],
      "metadata": {
        "id": "fRflGua6jVOg"
      }
    },
    {
      "cell_type": "code",
      "metadata": {
        "colab": {
          "base_uri": "https://localhost:8080/",
          "height": 295
        },
        "id": "LSrV7Ez32Obj",
        "outputId": "7da6c075-3180-47c7-c0b4-f3c04c67efea"
      },
      "source": [
        "plt.plot(history.history['accuracy'])\n",
        "plt.plot(history.history['val_accuracy'])\n",
        "plt.title('model accuracy')\n",
        "plt.ylabel('accuracy')\n",
        "plt.xlabel('epoch')\n",
        "plt.xlim(-1, 20)\n",
        "plt.legend(['train', 'validation'], loc='upper left')\n",
        "plt.show()"
      ],
      "execution_count": null,
      "outputs": [
        {
          "output_type": "display_data",
          "data": {
            "image/png": "[encoded data removed]",
            "text/plain": [
              "<Figure size 432x288 with 1 Axes>"
            ]
          },
          "metadata": {
            "tags": [],
            "needs_background": "light"
          }
        }
      ]
    },
    {
      "cell_type": "code",
      "metadata": {
        "colab": {
          "base_uri": "https://localhost:8080/",
          "height": 295
        },
        "id": "-dyh_jVx2gt-",
        "outputId": "a2f40194-c330-49ae-ae5e-7adf810d35c7"
      },
      "source": [
        "plt.plot(history.history['precision_m'])\n",
        "plt.plot(history.history['val_precision_m'])\n",
        "plt.title('model precision')\n",
        "plt.ylabel('precision')\n",
        "plt.xlabel('epoch')\n",
        "plt.xlim(-1, 20)\n",
        "plt.legend(['train', 'validation'], loc='upper left')\n",
        "plt.show()"
      ],
      "execution_count": null,
      "outputs": [
        {
          "output_type": "display_data",
          "data": {
            "image/png": "[encoded data removed]",
            "text/plain": [
              "<Figure size 432x288 with 1 Axes>"
            ]
          },
          "metadata": {
            "tags": [],
            "needs_background": "light"
          }
        }
      ]
    },
    {
      "cell_type": "code",
      "metadata": {
        "colab": {
          "base_uri": "https://localhost:8080/",
          "height": 295
        },
        "id": "1vEBUnux2tAH",
        "outputId": "ba51ccff-9bfe-43b9-db1e-97004dfe7313"
      },
      "source": [
        "plt.plot(history.history['loss'])\n",
        "plt.plot(history.history['val_loss'])\n",
        "plt.title('model loss')\n",
        "plt.ylabel('categorical crossentropy')\n",
        "plt.xlabel('epoch')\n",
        "plt.xlim(-1, 20)\n",
        "plt.legend(['train', 'validation'], loc='upper left')\n",
        "plt.show()"
      ],
      "execution_count": null,
      "outputs": [
        {
          "output_type": "display_data",
          "data": {
            "image/png": "[encoded data removed]",
            "text/plain": [
              "<Figure size 432x288 with 1 Axes>"
            ]
          },
          "metadata": {
            "tags": [],
            "needs_background": "light"
          }
        }
      ]
    },
    {
      "cell_type": "markdown",
      "metadata": {
        "id": "Y_r8k01fdkf9"
      },
      "source": [
        "### Saving the model"
      ]
    },
    {
      "cell_type": "markdown",
      "source": [
        "In this section, we save the trained model as an HDF5 file. It then predicts the classes of the test data using the predict() method and evaluates the performance of the model on the test data using the evaluate() method. The predicted labels and evaluation metrics are stored in the predictions and eval variables, respectively.\n"
      ],
      "metadata": {
        "id": "aeZun-NWjbJH"
      }
    },
    {
      "cell_type": "code",
      "metadata": {
        "colab": {
          "base_uri": "https://localhost:8080/"
        },
        "id": "pgDuAvTzdoIy",
        "outputId": "27674c93-4762-4193-9980-fc7267980bb9"
      },
      "source": [
        "from tensorflow.keras.models import load_model\n",
        "model.save('AlcoholicDrinkDetectionFull') "
      ],
      "execution_count": null,
      "outputs": [
        {
          "output_type": "stream",
          "text": [
            "INFO:tensorflow:Assets written to: AlcoholicDrinkDetectionFull/assets\n"
          ],
          "name": "stdout"
        }
      ]
    },
    {
      "cell_type": "code",
      "metadata": {
        "id": "oJQSRBgGYa2a"
      },
      "source": [
        "test_labels = test_batches.classes"
      ],
      "execution_count": null,
      "outputs": []
    },
    {
      "cell_type": "markdown",
      "metadata": {
        "id": "_nB7BWLfd9dv"
      },
      "source": [
        "## Model Evaluation"
      ]
    },
    {
      "cell_type": "code",
      "metadata": {
        "id": "1VtiofNWZHdR",
        "colab": {
          "base_uri": "https://localhost:8080/"
        },
        "outputId": "e2eb9015-ebd9-4656-902a-a9c89d9223ae"
      },
      "source": [
        "# Predict the test set using the trained model and print verbose output\n",
        "predictions = model.predict(x=test_batches, steps=len(test_batches), verbose=1)"
      ],
      "execution_count": null,
      "outputs": [
        {
          "output_type": "stream",
          "text": [
            "29/29 [==============================] - 351s 12s/step\n"
          ],
          "name": "stdout"
        }
      ]
    },
    {
      "cell_type": "code",
      "metadata": {
        "colab": {
          "base_uri": "https://localhost:8080/"
        },
        "id": "4g0hDe31pyDH",
        "outputId": "97d53d19-8134-4cab-a244-4376431b7568"
      },
      "source": [
        "# Evaluate the test set using the trained model\n",
        "eval = model.evaluate(x=test_batches)"
      ],
      "execution_count": null,
      "outputs": [
        {
          "output_type": "stream",
          "text": [
            "29/29 [==============================] - 13s 438ms/step - loss: 0.2888 - accuracy: 0.8789 - f1_m: 0.8825 - precision_m: 0.8825 - recall_m: 0.8825\n"
          ],
          "name": "stdout"
        }
      ]
    },
    {
      "cell_type": "code",
      "metadata": {
        "colab": {
          "base_uri": "https://localhost:8080/"
        },
        "id": "tdRrrqL653wb",
        "outputId": "dc4ab627-87fc-4041-c082-ede17a616f31"
      },
      "source": [
        "# Print the evaluation results\n",
        "print('Test Results: ')\n",
        "print('')\n",
        "print('Categorical Corssentropy: ', np.around(eval[0], 3) )\n",
        "print('Accuracy:                 ', np.around(eval[1], 3) )\n",
        "print('F1 Measure:               ', np.around(eval[2], 3) )"
      ],
      "execution_count": null,
      "outputs": [
        {
          "output_type": "stream",
          "text": [
            "Test Results: \n",
            "\n",
            "Categorical Corssentropy:  0.289\n",
            "Accuracy:                  0.879\n",
            "F1 Measure:                0.883\n"
          ],
          "name": "stdout"
        }
      ]
    },
    {
      "cell_type": "code",
      "metadata": {
        "colab": {
          "base_uri": "https://localhost:8080/",
          "height": 336
        },
        "id": "aIA3ko4b7H2Q",
        "outputId": "d6c1ca47-eea9-49ed-89ea-0336b137f15e"
      },
      "source": [
        "# Create a dictionary of the evaluation metrics\n",
        "data = {'Categorical Corssentropy': np.around(eval[0], 3), 'Accuracy':  np.around(eval[1], 3), 'F1 Measure':  np.around(eval[2], 3)} \n",
        "\n",
        "# Get the metrics and their values as separate lists\n",
        "metrics = list(data.keys()) \n",
        "values = list(data.values()) \n",
        "  \n",
        "# Create a bar chart to display the evaluation metrics\n",
        "fig = plt.figure(figsize = (6, 5)) \n",
        "  \n",
        "plt.bar(metrics, values, color ='maroon',  width = 0.4) \n",
        "\n",
        "# Add labels to the bars\n",
        "for i in range(len(values)):\n",
        "    plt.annotate(str(values[i]), xy=(metrics[i],values[i]), ha='center', va='bottom')\n",
        "  \n",
        "# Set the y-axis limits and add title to the chart\n",
        "plt.ylim(0, 1)\n",
        "plt.title(\"Test set benchmarks\") \n",
        "plt.show() "
      ],
      "execution_count": null,
      "outputs": [
        {
          "output_type": "display_data",
          "data": {
            "image/png": "[encoded data removed]",
            "text/plain": [
              "<Figure size 432x360 with 1 Axes>"
            ]
          },
          "metadata": {
            "tags": [],
            "needs_background": "light"
          }
        }
      ]
    },
    {
      "cell_type": "code",
      "metadata": {
        "id": "-QVfFqR22N0X"
      },
      "source": [
        "# Define a function to plot the confusion matrix\n",
        "\n",
        "def plot_confusion_matrix(cm, classes,\n",
        "                          normalize=False,\n",
        "                          title='Confusion matrix',\n",
        "                          cmap=plt.cm.Blues):\n",
        "    \"\"\"\n",
        "    This function prints and plots the confusion matrix.\n",
        "    Normalization can be applied by setting `normalize=True`.\n",
        "    \"\"\"\n",
        "    # Plot the confusion matrix\n",
        "    plt.imshow(cm, interpolation='nearest', cmap=cmap)\n",
        "    plt.title(title)\n",
        "    plt.colorbar()\n",
        "    # Add tick marks and labels to the plot\n",
        "    tick_marks = np.arange(len(classes))\n",
        "    plt.xticks(tick_marks, classes, rotation=45)\n",
        "    plt.yticks(tick_marks, classes)\n",
        "\n",
        "    # Normalize the confusion matrix if requested\n",
        "    if normalize:\n",
        "        cm = cm.astype('float') / cm.sum(axis=1)[:, np.newaxis]\n",
        "        print(\"Normalized confusion matrix\")\n",
        "    else:\n",
        "        print('Confusion matrix, without normalization')\n",
        "\n",
        "    # Print the confusion matrix\n",
        "    print(cm)\n",
        "\n",
        "    # Add labels to the confusion matrix cells\n",
        "    thresh = cm.max() / 2.\n",
        "    for i, j in itertools.product(range(cm.shape[0]), range(cm.shape[1])):\n",
        "        plt.text(j, i, cm[i, j],\n",
        "            horizontalalignment=\"center\",\n",
        "            color=\"white\" if cm[i, j] > thresh else \"black\")\n",
        "\n",
        "    # Set the plot labels and layout\n",
        "    plt.tight_layout()\n",
        "    plt.ylabel('True label')\n",
        "    plt.xlabel('Predicted label')"
      ],
      "execution_count": null,
      "outputs": []
    },
    {
      "cell_type": "code",
      "metadata": {
        "colab": {
          "base_uri": "https://localhost:8080/"
        },
        "id": "UlSlWsfb2PZ8",
        "outputId": "285c880c-b402-4fda-9f3c-2571dc1b274d"
      },
      "source": [
        "# Get the true labels for the test set\n",
        "test_labels = test_batches.classes\n",
        "\n",
        "# Compute the confusion matrix\n",
        "cm = confusion_matrix(y_true=test_labels, y_pred=predictions.argmax(axis=1))\n",
        "\n",
        "# Get the class indices for the test set\n",
        "test_batches.class_indices"
      ],
      "execution_count": null,
      "outputs": [
        {
          "output_type": "execute_result",
          "data": {
            "text/plain": [
              "{'alcoholic': 0, 'nonalcoholic': 1}"
            ]
          },
          "metadata": {
            "tags": []
          },
          "execution_count": 53
        }
      ]
    },
    {
      "cell_type": "code",
      "metadata": {
        "colab": {
          "base_uri": "https://localhost:8080/",
          "height": 362
        },
        "id": "tb0kxWcO2b-v",
        "outputId": "58d0e09e-a862-4c76-bfa3-bcbcc1b89c2e"
      },
      "source": [
        "# Set the labels for the confusion matrix plot\n",
        "cm_plot_labels = ['alcoholic', 'non-alcoholic']\n",
        "\n",
        "# Plot the confusion matrix\n",
        "plot_confusion_matrix(cm=cm, classes=cm_plot_labels, title='Confusion Matrix')"
      ],
      "execution_count": null,
      "outputs": [
        {
          "output_type": "stream",
          "text": [
            "Confusion matrix, without normalization\n",
            "[[400  50]\n",
            " [ 59 391]]\n"
          ],
          "name": "stdout"
        },
        {
          "output_type": "display_data",
          "data": {
            "image/png": "[encoded data removed]",
            "text/plain": [
              "<Figure size 432x288 with 2 Axes>"
            ]
          },
          "metadata": {
            "tags": [],
            "needs_background": "light"
          }
        }
      ]
    },
    {
      "cell_type": "code",
      "metadata": {
        "colab": {
          "base_uri": "https://localhost:8080/"
        },
        "id": "hm9diicM9POl",
        "outputId": "976b11f9-78ee-45e4-9d9a-c0a15e48a980"
      },
      "source": [
        "# Calculate the number of true/false positives/negatives\n",
        "TP = cm[0, 0]\n",
        "FP = cm[0, 1]\n",
        "TN = cm[1, 1]\n",
        "FN = cm[1, 0]\n",
        "\n",
        "# Print the values \n",
        "print('True  Positive = ', TP)\n",
        "print('Flase Positive = ', FP)\n",
        "print('True  Negative = ', TN)\n",
        "print('Flase Negative = ', FN)"
      ],
      "execution_count": null,
      "outputs": [
        {
          "output_type": "stream",
          "text": [
            "True  Positive =  400\n",
            "Flase Positive =  50\n",
            "True  Negative =  391\n",
            "Flase Negative =  59\n"
          ],
          "name": "stdout"
        }
      ]
    },
    {
      "cell_type": "code",
      "metadata": {
        "colab": {
          "base_uri": "https://localhost:8080/"
        },
        "id": "k2oK-3TT_jV0",
        "outputId": "f438dd4f-eb87-446d-a4e3-b2818e8a37ec"
      },
      "source": [
        "# Calculation of precision, recall, and F1-Score values\n",
        "recall =    TP/(TP+FN)\n",
        "percision = TP/(TP+FP) \n",
        "f1 = 2*(recall * percision) / (recall + percision)\n",
        "\n",
        "print('Percision  = ', percision)\n",
        "print('Recall     = ', recall)\n",
        "print('F1 Measure = ', f1)"
      ],
      "execution_count": null,
      "outputs": [
        {
          "output_type": "stream",
          "text": [
            "Percision  =  0.8888888888888888\n",
            "Recall     =  0.8714596949891068\n",
            "F1 Measure =  0.88008800880088\n"
          ],
          "name": "stdout"
        }
      ]
    },
    {
      "cell_type": "markdown",
      "source": [
        "This section prints the classification report, which includes Precision, Recall, F1 Score, and Support for each class, as well as their weighted average."
      ],
      "metadata": {
        "id": "gvVa3bYPliy0"
      }
    },
    {
      "cell_type": "code",
      "metadata": {
        "colab": {
          "base_uri": "https://localhost:8080/"
        },
        "id": "HvcIls04BIiG",
        "outputId": "9eb17d56-bc6c-4526-f55d-abbfa6016f77"
      },
      "source": [
        "from sklearn.metrics import classification_report\n",
        "\n",
        "y_pred = predictions\n",
        "y_pred_bool = np.argmax(predictions, axis=1)\n",
        "y_test = test_batches.classes\n",
        "\n",
        "print(classification_report(y_test, y_pred_bool))"
      ],
      "execution_count": null,
      "outputs": [
        {
          "output_type": "stream",
          "text": [
            "              precision    recall  f1-score   support\n",
            "\n",
            "           0       0.87      0.89      0.88       450\n",
            "           1       0.89      0.87      0.88       450\n",
            "\n",
            "    accuracy                           0.88       900\n",
            "   macro avg       0.88      0.88      0.88       900\n",
            "weighted avg       0.88      0.88      0.88       900\n",
            "\n"
          ],
          "name": "stdout"
        }
      ]
    }
  ]
}